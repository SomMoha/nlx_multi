{
 "cells": [
  {
   "cell_type": "code",
   "execution_count": 4,
   "id": "3747be6f-d4f3-4f84-8f2b-11814e34b082",
   "metadata": {},
   "outputs": [],
   "source": [
    "import json\n",
    "import os"
   ]
  },
  {
   "cell_type": "code",
   "execution_count": 2,
   "id": "823adb7e-608a-4dd4-a241-21994dbeca7b",
   "metadata": {},
   "outputs": [],
   "source": [
    "import json\n",
    "\n",
    "modified_aokvqa_data = {}\n",
    "aokvqa_data = json.load(open('E:/Download/aokvqa_v1p0_train.json','r'))\n",
    "\n",
    "for i,item in enumerate(aokvqa_data):\n",
    "    qid = str(i)\n",
    "    modified_aokvqa_data[qid] = {\n",
    "        'question': item['question'],\n",
    "        'image_id': item['image_id'],\n",
    "        'image_name':str(item['image_id']) + '.jpg',\n",
    "        'answers': item['direct_answers'][0],\n",
    "        'correct_choice': item['choices'][item['correct_choice_idx']],\n",
    "        'explanation': item['rationales']\n",
    "    }\n",
    "\n",
    "with open('E:/Download/modified_aokvqa_train.json', 'w') as w:\n",
    "    json.dump(modified_aokvqa_data,w)"
   ]
  },
  {
   "cell_type": "markdown",
   "id": "ed71eb0a-3bf1-4efb-af98-5da6265fe7ca",
   "metadata": {},
   "source": [
    "## **ACTX** train data"
   ]
  },
  {
   "cell_type": "code",
   "execution_count": 4,
   "id": "5a83a996-d6a5-4367-89ec-9c174cdcde1b",
   "metadata": {},
   "outputs": [],
   "source": [
    "import json \n",
    "\n",
    "modified_actx_data = {}\n",
    "actx_data = json.load(open(\"E:/Download/actX_train.json\",\"r\"))\n",
    "\n",
    "for k,v in actx_data.items():\n",
    "    qid = k\n",
    "    modified_actx_data[qid] = {\n",
    "        'question': \"What does the image tell?\",  # Static question for ACT-X\n",
    "        'image_id': v['image_id'],\n",
    "        'image_name': v['image_name'],  # Example format\n",
    "        'answers': v['answers'],\n",
    "        'explanation': v['explanation']\n",
    "    }\n",
    "\n",
    "with open(\"E:/Download/modified_actX_train.json\",\"w\") as w:\n",
    "    json.dump(modified_actx_data,w)"
   ]
  },
  {
   "cell_type": "code",
   "execution_count": 2,
   "id": "9a5d8925-b9f0-47b2-a822-96f253adfce3",
   "metadata": {},
   "outputs": [],
   "source": [
    "import json\n",
    "\n",
    "moddified_actx_test_data = {}\n",
    "actx_test_data = json.load(open(\"E:/Download/actX_test.json\", \"r\"))\n",
    "\n",
    "for k,v in actx_test_data.items():\n",
    "    qid = k\n",
    "    moddified_actx_test_data[qid] = {\n",
    "        'question': \"What does the image tell?\",  # Static question for ACT-X\n",
    "        'image_id': v['image_id'],\n",
    "        'image_name': v['image_name'],  # Example format\n",
    "        'answers': v['answers'],\n",
    "        'explanation': v['explanation']\n",
    "    }\n",
    "\n",
    "with open(\"E:/Download/modified_actx_test_data.json\", \"w\") as w:\n",
    "    json.dump(moddified_actx_test_data, w)"
   ]
  },
  {
   "cell_type": "code",
   "execution_count": 72,
   "id": "a9969083-73c2-4c44-a99c-c05409eb4e1f",
   "metadata": {},
   "outputs": [],
   "source": [
    "import json\n",
    "import random\n",
    "\n",
    "modified_aokvqa_test_data = {}\n",
    "with open(\"E:/Download/aokvqa_v1p0_test.json\",\"r\") as aokVqa_test:\n",
    "    aokvqa_data_test = json.load(aokVqa_test)\n",
    "\n",
    "dict_size = len(aokvqa_data_test)\n",
    "random_nums_lst = random.sample(range(692,10000),dict_size)\n",
    "for i,item in enumerate(aokvqa_data_test):\n",
    "    random_int = random_nums_lst[i]\n",
    "    qid = str(random_int)\n",
    "    modified_aokvqa_test_data[qid] = {\n",
    "        'question': item['question'],\n",
    "        'image_id': item['image_id'],\n",
    "        'image_name':str(item['image_id']) + '.jpg',\n",
    "        'choices': item['choices'],\n",
    "        'explanation' : []\n",
    "    }\n",
    "\n",
    "with open('E:/Download/modified_aokvqa_test.json', 'w') as w:\n",
    "    json.dump(modified_aokvqa_test_data,w)"
   ]
  },
  {
   "cell_type": "code",
   "execution_count": 70,
   "id": "0427d35e-acd2-4093-92c4-1b3de9a06a1c",
   "metadata": {},
   "outputs": [
    {
     "data": {
      "text/plain": [
       "9308"
      ]
     },
     "execution_count": 70,
     "metadata": {},
     "output_type": "execute_result"
    }
   ],
   "source": []
  },
  {
   "cell_type": "code",
   "execution_count": 61,
   "id": "6b9b3a87-21aa-439d-bfdd-df6c7e1d3e18",
   "metadata": {},
   "outputs": [],
   "source": [
    "import json\n",
    "import random\n",
    "\n",
    "modified_aokvqa_val_data = {}\n",
    "aokvqa_data = json.load(open(\"E:/Download/aokvqa_v1p0_val.json\",\"r\"))\n",
    "dict_size = len(aokvqa_data)\n",
    "\n",
    "for item in aokvqa_data:\n",
    "    random_int = random.randint(1,dict_size)\n",
    "    qid = str(random_int)\n",
    "    modified_aokvqa_val_data[qid] = {\n",
    "        'question': item['question'],\n",
    "        'image_id': item['image_id'],\n",
    "        'image_name':str(item['image_id']) + '.jpg',\n",
    "        'answers': item['direct_answers'][0],\n",
    "        'correct_choice': item['choices'][item['correct_choice_idx']],\n",
    "        'explanation': item['rationales']\n",
    "    }\n",
    "\n",
    "with open('E:/Download/modified_aokvqa_val_data.json', 'w') as w:\n",
    "    json.dump(modified_aokvqa_val_data,w)"
   ]
  },
  {
   "cell_type": "code",
   "execution_count": 2,
   "id": "2b9dea1b-6988-49f9-83f5-79cb9a1dfeec",
   "metadata": {},
   "outputs": [
    {
     "name": "stdout",
     "output_type": "stream",
     "text": [
      "Concatenated data written to E:/Download/myProject/Scripts/nle_data/nle_data_train.json\n"
     ]
    }
   ],
   "source": [
    "# # List of JSON files for the training nle data to concatenate\n",
    "# input_files = [\"E:/Download/vqaX_train.json\", \"E:/Download/modified_aokvqa_train.json\", \"E:/Download/modified_actX_train.json\"]\n",
    "\n",
    "# # Output file where the concatenated training data will be saved\n",
    "# output_file = \"E:/Download/myProject/Scripts/nle_data/nle_data_train.json\"\n",
    "# train_dict = {}\n",
    "# # Iterate through the input files and concatenate their contents\n",
    "# for input_file in input_files:\n",
    "#     with open(input_file, 'r') as new_file:\n",
    "#         train_json = json.load(new_file)\n",
    "#         train_dict.update(train_json)\n",
    "\n",
    "# with open(output_file, 'w') as out_train:\n",
    "#     json.dump(train_dict, out_train)\n",
    "# # with open(output_file, 'w') as output:\n",
    "# #     for input_file in input_files:\n",
    "# #         with open(input_file, 'r') as file:\n",
    "# #             file_contents = file.read()\n",
    "# #             output.write(file_contents)\n",
    "\n",
    "# print(f'Concatenated data written to {output_file}')"
   ]
  },
  {
   "cell_type": "markdown",
   "id": "c2c8b05a-8a78-4319-abdb-b546e9ff2ce8",
   "metadata": {},
   "source": [
    "## Complete Train Data "
   ]
  },
  {
   "cell_type": "code",
   "execution_count": 35,
   "id": "fe26d303-184f-426c-a909-0deb6324a749",
   "metadata": {},
   "outputs": [],
   "source": [
    "with open(\"E:/Download/vqaX_train.json\", \"r\") as vqa_train:\n",
    "    vqa = json.load(vqa_train)\n",
    "with open(\"E:/Download/aokvqa_train_final.json\", \"r\") as aokvqa_train:\n",
    "    aokvqa = json.load(aokvqa_train)\n",
    "with open(\"E:/Download/modified_actX_train.json\", \"r\") as act_train:\n",
    "    act = json.load(act_train)\n",
    "input_files = [vqa, aokvqa, act]\n",
    "# Output file where the concatenated training data will be saved\n",
    "output_file = \"E:/Download/myProject/Scripts/nle_data/nle_data_train.json\"\n",
    "train_dict = {}"
   ]
  },
  {
   "cell_type": "code",
   "execution_count": 36,
   "id": "8ecff50f-0b36-4dae-92e0-b489ad17806c",
   "metadata": {},
   "outputs": [
    {
     "name": "stdout",
     "output_type": "stream",
     "text": [
      "Concatenated data written to E:/Download/myProject/Scripts/nle_data/nle_data_train.json\n"
     ]
    }
   ],
   "source": [
    "for input_file in input_files:\n",
    "    for k,v in input_file.items():\n",
    "        train_dict[k] = v\n",
    "train_dict = dict(train_dict)            \n",
    "with open(output_file, 'w') as out_train:\n",
    "    json.dump(train_dict, out_train)\n",
    "    \n",
    "print(f'Concatenated data written to {output_file}')"
   ]
  },
  {
   "cell_type": "markdown",
   "id": "24434159-803f-443a-99b1-28c027bd8c1f",
   "metadata": {},
   "source": [
    "## Complete Validation Data"
   ]
  },
  {
   "cell_type": "code",
   "execution_count": 5,
   "id": "ebb01178-45ee-47f1-bc1a-fff250a296ce",
   "metadata": {},
   "outputs": [
    {
     "name": "stdout",
     "output_type": "stream",
     "text": [
      " Concatenated data written to E:/Download/myProject/Scripts/nle_data/nle_data_val.json\n"
     ]
    }
   ],
   "source": [
    "# # List of json files for the validation nle data concatenated \n",
    "# input_files_2 = [\"E:/Download/vqaX_val.json\", \"E:/Download/modified_aokvqa_val_data.json\"]\n",
    "\n",
    "# output_file_2 = \"E:/Download/myProject/Scripts/nle_data/nle_data_val.json\"\n",
    "\n",
    "# with open(output_file_2, \"w\") as output_2:\n",
    "#     for input_file in input_files_2:\n",
    "#         with open(input_file, \"r\") as file:\n",
    "#             file_contents = file.read()\n",
    "#             output_2.write(file_contents)\n",
    "\n",
    "# print(f\" Concatenated data written to {output_file_2}\")"
   ]
  },
  {
   "cell_type": "code",
   "execution_count": 46,
   "id": "2e993c73-8302-4c4d-a2cc-9ed0a2bcd0af",
   "metadata": {},
   "outputs": [],
   "source": [
    "with open(\"E:/Download/vqaX_val.json\", \"r\") as vqa_val:\n",
    "    vqa2 = json.load(vqa_val)\n",
    "with open(\"E:/Download/aokvqa_val_final.json\", \"r\") as aokvqa_val:\n",
    "    aokvqa2 = json.load(aokvqa_val)\n",
    "input_files_2 = [vqa2,aokvqa2]\n",
    "output_file_2 = \"E:/Download/myProject/Scripts/nle_data/nle_data_val.json\"\n",
    "val_dict = {}"
   ]
  },
  {
   "cell_type": "code",
   "execution_count": 47,
   "id": "9d0f3f46-885d-4303-82dc-549b71517944",
   "metadata": {},
   "outputs": [
    {
     "name": "stdout",
     "output_type": "stream",
     "text": [
      " Concatenated data written to E:/Download/myProject/Scripts/nle_data/nle_data_val.json\n"
     ]
    }
   ],
   "source": [
    "for input_file2 in input_files_2:\n",
    "    for k,v in input_file2.items():\n",
    "        val_dict[k] = v\n",
    "val_dict = dict(val_dict)\n",
    "\n",
    "with open(output_file_2, \"w\") as out_val:\n",
    "    json.dump(val_dict, out_val)\n",
    "\n",
    "print(f\" Concatenated data written to {output_file_2}\")"
   ]
  },
  {
   "cell_type": "code",
   "execution_count": null,
   "id": "22727253-3d3e-4d9e-a6ea-b51eef478efd",
   "metadata": {},
   "outputs": [],
   "source": []
  },
  {
   "cell_type": "code",
   "execution_count": 7,
   "id": "aeeab839-f26b-4f53-8cbd-052a0bd10b1e",
   "metadata": {},
   "outputs": [
    {
     "name": "stdout",
     "output_type": "stream",
     "text": [
      " Concatenated data written to E:/Download/myProject/Scripts/nle_data/nle_data_test.json\n"
     ]
    }
   ],
   "source": [
    "# # list of json files for test nle data concatenated \n",
    "# input_files_3 = [\"E:/Download/vqaX_val.json\", \"E:/Download/modified_aokvqa_test.json\", \"E:/Download/modified_actx_test_data.json\"]\n",
    "\n",
    "# output_file_3 = \"E:/Download/myProject/Scripts/nle_data/nle_data_test.json\"\n",
    "# output_dict = {}\n",
    "# for input_file in input_files_3:\n",
    "#     with open(input_file, \"r\") as file:\n",
    "#         json_file = json.load(file)\n",
    "#         output_dict.update(json_file)\n",
    "# # with open(output_file_3, \"w\") as output_3:\n",
    "# #     for input_file in input_files_3:\n",
    "# #         with open(input_file, \"r\") as file:\n",
    "# #             file_contents = file.read()\n",
    "# #             output_3.write(file_contents)\n",
    "# with open(output_file_3, \"w\") as out:\n",
    "#     json.dump(output_dict, out)\n",
    "# print(f\" Concatenated data written to {output_file_3}\")"
   ]
  },
  {
   "cell_type": "markdown",
   "id": "69daed2e-ac34-4c32-bf8b-fcdc7b424996",
   "metadata": {},
   "source": [
    "## Complete Test Data"
   ]
  },
  {
   "cell_type": "code",
   "execution_count": 50,
   "id": "b0a50010-3f43-44af-a273-9255a64fb997",
   "metadata": {},
   "outputs": [],
   "source": [
    "with open(\"E:/Download/vqaX_test.json\", \"r\") as vqa_test:\n",
    "    vqa3 = json.load(vqa_test)\n",
    "with open(\"E:/Download/aokvqa_test_final.json\", \"r\") as aokvqa_test:\n",
    "    aokvqa2 = json.load(aokvqa_test)\n",
    "with open(\"E:/Download/modified_actx_test_data.json\", \"r\") as act_test:\n",
    "    act2 = json.load(act_test)\n",
    "\n",
    "output_file_3 = \"E:/Download/myProject/Scripts/nle_data/nle_data_test.json\"\n",
    "input_files_3 = [vqa3, aokvqa2, act2]\n",
    "test_dict = {}\n"
   ]
  },
  {
   "cell_type": "code",
   "execution_count": 51,
   "id": "f133ffc1-76f2-45b4-b6eb-fc3a6d6a6d33",
   "metadata": {},
   "outputs": [
    {
     "name": "stdout",
     "output_type": "stream",
     "text": [
      " Concatenated data written to E:/Download/myProject/Scripts/nle_data/nle_data_test.json\n"
     ]
    }
   ],
   "source": [
    "for input_file3 in input_files_3:\n",
    "    for k,v in input_file3.items():\n",
    "        test_dict[k] = v\n",
    "test_dict = dict(test_dict)\n",
    "\n",
    "with open(output_file_3, \"w\") as out6:\n",
    "    json.dump(test_dict, out6)\n",
    "print(f\" Concatenated data written to {output_file_3}\")"
   ]
  },
  {
   "cell_type": "code",
   "execution_count": 45,
   "id": "361845ad-a919-4276-84cf-1b1348025ddb",
   "metadata": {},
   "outputs": [
    {
     "name": "stdout",
     "output_type": "stream",
     "text": [
      "717\n"
     ]
    }
   ],
   "source": []
  },
  {
   "cell_type": "markdown",
   "id": "4b459cb4-1fa7-407b-b08a-22b5ea8dece9",
   "metadata": {},
   "source": [
    "## Modifying the AOKVQA Dataset"
   ]
  },
  {
   "cell_type": "markdown",
   "id": "d0a6a4a5-f831-4b90-8bc0-816149522812",
   "metadata": {},
   "source": [
    "### AOKVQA Train Dataset"
   ]
  },
  {
   "cell_type": "code",
   "execution_count": 54,
   "id": "f674afeb-d49f-4afb-983b-f73a0e4e054d",
   "metadata": {},
   "outputs": [],
   "source": [
    "aokVqa_image_names = {}"
   ]
  },
  {
   "cell_type": "code",
   "execution_count": 59,
   "id": "d792abb0-3782-44b8-ac28-daf50e319ce8",
   "metadata": {},
   "outputs": [
    {
     "name": "stdout",
     "output_type": "stream",
     "text": [
      "11680\n"
     ]
    }
   ],
   "source": [
    "print(len(aokVqa_image_names.keys()))"
   ]
  },
  {
   "cell_type": "code",
   "execution_count": 56,
   "id": "fe2a37f5-8cc8-4461-bedb-fe6db65770e3",
   "metadata": {},
   "outputs": [
    {
     "name": "stdout",
     "output_type": "stream",
     "text": [
      "[]\n"
     ]
    }
   ],
   "source": [
    "first_twenty = list(aokVqa_image_names.items())[:20]\n",
    "print(first_twenty)"
   ]
  },
  {
   "cell_type": "code",
   "execution_count": 57,
   "id": "c2966b7c-5414-4411-a3ef-dc85948482d3",
   "metadata": {},
   "outputs": [],
   "source": [
    "with open(\"E:/Download/modified_aokvqa_train.json\", \"r\") as aokVqa_train_correc:\n",
    "    data_aok = json.load(aokVqa_train_correc)\n",
    "image_files = os.listdir(\"E:/Download/myProject/Scripts/images\")"
   ]
  },
  {
   "cell_type": "code",
   "execution_count": 58,
   "id": "9316ba98-db70-4ba2-8fec-3c2fbf8995d4",
   "metadata": {},
   "outputs": [],
   "source": [
    "for k,v in data_aok.items():\n",
    "    partial_name = v[\"image_name\"]\n",
    "    for image_file in image_files:\n",
    "        if partial_name in image_file and \"train\" in image_file:\n",
    "            aokVqa_image_names[k] =  {\n",
    "        'question': v['question'],\n",
    "        'image_id': v['image_id'],\n",
    "        'image_name':image_file,   \n",
    "        'answers': v['answers'],\n",
    "        'correct_choice': v['correct_choice'],\n",
    "        'explanation': v['explanation']\n",
    "                                    }\n",
    "            \n",
    "            break\n",
    "\n",
    "with open(\"E:/Download/aokvqa_train_final.json\", \"w\") as file__:\n",
    "    json.dump(aokVqa_image_names, file__)"
   ]
  },
  {
   "cell_type": "markdown",
   "id": "a23a36b3-2f2a-401d-ac70-a8bf47a96bed",
   "metadata": {},
   "source": [
    "### AOKVQA Validation data"
   ]
  },
  {
   "cell_type": "code",
   "execution_count": 65,
   "id": "469bab28-98cd-4637-9bd4-4a87666823bc",
   "metadata": {},
   "outputs": [],
   "source": [
    "aokVqa_val_data_final = {}"
   ]
  },
  {
   "cell_type": "code",
   "execution_count": 66,
   "id": "e44e6fc0-1f34-4cd1-b8aa-4bf466aa5e08",
   "metadata": {},
   "outputs": [],
   "source": [
    "with open(\"E:/Download/modified_aokvqa_val_data.json\", \"r\") as aokVqa_val_correc:\n",
    "    val_aokVqa = json.load(aokVqa_val_correc)"
   ]
  },
  {
   "cell_type": "code",
   "execution_count": 67,
   "id": "d2f03059-781a-41c8-8d43-b2114927ea1a",
   "metadata": {},
   "outputs": [],
   "source": [
    "for k,v in val_aokVqa.items():\n",
    "    partial_name_2 = v[\"image_name\"]\n",
    "    for image_file_name_2 in image_files:\n",
    "        if partial_name_2 in image_file_name_2 and \"val\" in image_file_name_2:\n",
    "            aokVqa_val_data_final[k] = {\n",
    "        'question': v['question'],\n",
    "        'image_id': v['image_id'],\n",
    "        'image_name':image_file_name_2,   \n",
    "        'answers': v['answers'],\n",
    "        'correct_choice': v['correct_choice'],\n",
    "        'explanation': v['explanation']\n",
    "            }\n",
    "            \n",
    "            break\n",
    "\n",
    "with open(\"E:/Download/aokvqa_val_final.json\", \"w\") as file__2:\n",
    "    json.dump(aokVqa_val_data_final, file__2)"
   ]
  },
  {
   "cell_type": "markdown",
   "id": "820bbf69-24e6-4792-91c0-f8cfadd67703",
   "metadata": {},
   "source": [
    "### AOKVQA Preparing Test data"
   ]
  },
  {
   "cell_type": "code",
   "execution_count": 7,
   "id": "b7b53c67-8d8e-428f-8da9-682b28095c5a",
   "metadata": {},
   "outputs": [],
   "source": [
    "aokVqa_test_data_final = {}\n",
    "with open(\"E:/Download/modified_aokvqa_test.json\", \"r\") as aokVqa_test_correc:\n",
    "    test_aokVqa = json.load(aokVqa_test_correc)"
   ]
  },
  {
   "cell_type": "code",
   "execution_count": 8,
   "id": "2416e653-ed23-44f3-bd67-d142e6931c8f",
   "metadata": {},
   "outputs": [
    {
     "data": {
      "text/plain": [
       "{}"
      ]
     },
     "execution_count": 8,
     "metadata": {},
     "output_type": "execute_result"
    }
   ],
   "source": [
    "aokVqa_test_data_final"
   ]
  },
  {
   "cell_type": "code",
   "execution_count": 9,
   "id": "fb70727a-2672-44f7-9bcf-617d6cf53b65",
   "metadata": {},
   "outputs": [],
   "source": [
    "for k,v in test_aokVqa.items():\n",
    "    partial_name_3 = v[\"image_name\"]\n",
    "    for image_file_name_3 in image_files:\n",
    "        if partial_name_3 in image_file_name_3 and \"test2014\" in image_file_name_3:\n",
    "            aokVqa_test_data_final[k] = {\n",
    "        'question': v['question'],\n",
    "        'image_id': v['image_id'],\n",
    "        'image_name':image_file_name_3,   \n",
    "        'choices': v['choices'],\n",
    "        'explanation': v['explanation']\n",
    "            }\n",
    "            \n",
    "            break\n",
    "\n",
    "with open(\"E:/Download/aokvqa_test_final.json\", \"w\") as file__3:\n",
    "    json.dump(aokVqa_test_data_final, file__3)"
   ]
  },
  {
   "cell_type": "code",
   "execution_count": 3,
   "id": "2f213d4d-de56-42b2-aeed-e091dcbb3470",
   "metadata": {},
   "outputs": [],
   "source": [
    "default = 23"
   ]
  },
  {
   "cell_type": "code",
   "execution_count": 5,
   "id": "9fe705e5-9201-4ed1-a700-483d33e3e92c",
   "metadata": {},
   "outputs": [
    {
     "name": "stdout",
     "output_type": "stream",
     "text": [
      " This fucnctions is equal to 23 inch\n"
     ]
    }
   ],
   "source": [
    "print(f\" This fucnctions is equal to {default} inch\")"
   ]
  },
  {
   "cell_type": "code",
   "execution_count": 6,
   "id": "8dba08ca-3e52-4964-bf3b-c7a9cbafc22a",
   "metadata": {},
   "outputs": [],
   "source": [
    "# creating a dictionary\n",
    "country_capitals = {\n",
    "  \"Germany\": \"Berlin\", \n",
    "  \"Canada\": \"Ottawa\", \n",
    "  \"England\": \"London\"\n",
    "}"
   ]
  },
  {
   "cell_type": "code",
   "execution_count": 9,
   "id": "9b2ce930-7d5e-4797-9702-01580d952749",
   "metadata": {},
   "outputs": [
    {
     "name": "stdout",
     "output_type": "stream",
     "text": [
      "Germany\n"
     ]
    }
   ],
   "source": [
    "print(list(country_capitals)[0])"
   ]
  },
  {
   "cell_type": "code",
   "execution_count": 13,
   "id": "ee39b9b4-f775-4d56-ba08-caf47212f607",
   "metadata": {},
   "outputs": [
    {
     "data": {
      "text/plain": [
       "'Ottawa'"
      ]
     },
     "execution_count": 13,
     "metadata": {},
     "output_type": "execute_result"
    }
   ],
   "source": [
    "country_capitals[\"Canada\"]"
   ]
  },
  {
   "cell_type": "code",
   "execution_count": null,
   "id": "6bddf1e7-297b-4bc6-a038-7cb8ac22c52a",
   "metadata": {},
   "outputs": [],
   "source": []
  },
  {
   "cell_type": "code",
   "execution_count": null,
   "id": "bca8d1c6-4d68-4e73-b809-75693f7b7ad9",
   "metadata": {},
   "outputs": [],
   "source": []
  }
 ],
 "metadata": {
  "kernelspec": {
   "display_name": "Python 3 (ipykernel)",
   "language": "python",
   "name": "python3"
  },
  "language_info": {
   "codemirror_mode": {
    "name": "ipython",
    "version": 3
   },
   "file_extension": ".py",
   "mimetype": "text/x-python",
   "name": "python",
   "nbconvert_exporter": "python",
   "pygments_lexer": "ipython3",
   "version": "3.9.13"
  }
 },
 "nbformat": 4,
 "nbformat_minor": 5
}
