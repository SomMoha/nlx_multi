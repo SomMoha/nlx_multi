{
 "cells": [
  {
   "cell_type": "markdown",
   "id": "9512ff92-ebed-46ab-b2e6-844828c1a845",
   "metadata": {},
   "source": [
    "## Preprocessing the **A-OKVQA** train data"
   ]
  },
  {
   "cell_type": "code",
   "execution_count": 2,
   "id": "823adb7e-608a-4dd4-a241-21994dbeca7b",
   "metadata": {},
   "outputs": [],
   "source": [
    "import json\n",
    "\n",
    "modified_aokvqa_data = {}\n",
    "aokvqa_data = json.load(open('E:/Download/aokvqa_v1p0_train.json','r'))\n",
    "\n",
    "for i,item in enumerate(aokvqa_data):\n",
    "    qid = str(i)\n",
    "    modified_aokvqa_data[qid] = {\n",
    "        'question': item['question'],\n",
    "        'image_id': item['image_id'],\n",
    "        'image_name': \"000000\"+ str(item['image_id']) + '.jpg',\n",
    "        'answers': item['direct_answers'][0],\n",
    "        'correct_choice': item['choices'][item['correct_choice_idx']],\n",
    "        'explanation': item['rationales']\n",
    "    }\n",
    "\n",
    "with open('E:/Download/modified_aokvqa_train.json', 'w') as w:\n",
    "    json.dump(modified_aokvqa_data,w)"
   ]
  },
  {
   "cell_type": "markdown",
   "id": "ed71eb0a-3bf1-4efb-af98-5da6265fe7ca",
   "metadata": {},
   "source": [
    "## **ACTX** train data"
   ]
  },
  {
   "cell_type": "code",
   "execution_count": 4,
   "id": "5a83a996-d6a5-4367-89ec-9c174cdcde1b",
   "metadata": {},
   "outputs": [],
   "source": [
    "import json \n",
    "\n",
    "modified_actx_data = {}\n",
    "actx_data = json.load(open(\"E:/Download/actX_train.json\",\"r\"))\n",
    "\n",
    "for k,v in actx_data.items():\n",
    "    qid = k\n",
    "    modified_actx_data[qid] = {\n",
    "        'question': \"What does the image tell?\",  # Static question for ACT-X\n",
    "        'image_id': v['image_id'],\n",
    "        'image_name': v['image_name'],  # Example format\n",
    "        'answers': v['answers'],\n",
    "        'explanation': v['explanation']\n",
    "    }\n",
    "\n",
    "with open(\"E:/Download/modified_actX_train.json\",\"w\") as w:\n",
    "    json.dump(modified_actx_data,w)"
   ]
  },
  {
   "cell_type": "code",
   "execution_count": 2,
   "id": "9a5d8925-b9f0-47b2-a822-96f253adfce3",
   "metadata": {},
   "outputs": [],
   "source": [
    "import json\n",
    "\n",
    "moddified_actx_test_data = {}\n",
    "actx_test_data = json.load(open(\"E:/Download/actX_test.json\", \"r\"))\n",
    "\n",
    "for k,v in actx_test_data.items():\n",
    "    qid = k\n",
    "    moddified_actx_test_data[qid] = {\n",
    "        'question': \"What does the image tell?\",  # Static question for ACT-X\n",
    "        'image_id': v['image_id'],\n",
    "        'image_name': v['image_name'],  # Example format\n",
    "        'answers': v['answers'],\n",
    "        'explanation': v['explanation']\n",
    "    }\n",
    "\n",
    "with open(\"E:/Download/modified_actx_test_data.json\", \"w\") as w:\n",
    "    json.dump(moddified_actx_test_data, w)"
   ]
  },
  {
   "cell_type": "code",
   "execution_count": 8,
   "id": "a9969083-73c2-4c44-a99c-c05409eb4e1f",
   "metadata": {},
   "outputs": [],
   "source": [
    "import json\n",
    "import random\n",
    "\n",
    "modified_aokvqa_test_data = {}\n",
    "aokvqa_data = json.load(open(\"E:/Download/aokvqa_v1p0_test.json\",\"r\"))\n",
    "dict_size = len(aokvqa_data)\n",
    "\n",
    "for item in aokvqa_data:\n",
    "    random_int = random.randint(1,dict_size)\n",
    "    qid = str(random_int)\n",
    "    modified_aokvqa_test_data[qid] = {\n",
    "        'question': item['question'],\n",
    "        'image_id': item['image_id'],\n",
    "        'image_name': \"000000\"+ str(item['image_id']) + '.jpg',\n",
    "        'choices': item['choices'] \n",
    "    }\n",
    "\n",
    "with open('E:/Download/modified_aokvqa_test.json', 'w') as w:\n",
    "    json.dump(modified_aokvqa_test_data,w)"
   ]
  },
  {
   "cell_type": "code",
   "execution_count": 6,
   "id": "6b9b3a87-21aa-439d-bfdd-df6c7e1d3e18",
   "metadata": {},
   "outputs": [],
   "source": [
    "import json\n",
    "import random\n",
    "\n",
    "modified_aokvqa_val_data = {}\n",
    "aokvqa_data = json.load(open(\"E:/Download/aokvqa_v1p0_val.json\",\"r\"))\n",
    "dict_size = len(aokvqa_data)\n",
    "\n",
    "for item in aokvqa_data:\n",
    "    random_int = random.randint(1,dict_size)\n",
    "    qid = str(random_int)\n",
    "    modified_aokvqa_val_data[qid] = {\n",
    "        'question': item['question'],\n",
    "        'image_id': item['image_id'],\n",
    "        'image_name': \"000000\"+ str(item['image_id']) + '.jpg',\n",
    "        'answers': item['direct_answers'][0],\n",
    "        'correct_choice': item['choices'][item['correct_choice_idx']],\n",
    "        'explanation': item['rationales']\n",
    "    }\n",
    "\n",
    "with open('E:/Download/modified_aokvqa_val_data.json', 'w') as w:\n",
    "    json.dump(modified_aokvqa_val_data,w)"
   ]
  },
  {
   "cell_type": "code",
   "execution_count": 3,
   "id": "2b9dea1b-6988-49f9-83f5-79cb9a1dfeec",
   "metadata": {},
   "outputs": [
    {
     "name": "stdout",
     "output_type": "stream",
     "text": [
      "Concatenated data written to E:/Download/myProject/Scripts/nle_data/nle_data_train.json\n"
     ]
    }
   ],
   "source": [
    "# List of JSON files for the training nle data to concatenate\n",
    "input_files = [\"E:/Download/vqaX_train.json\", \"E:/Download/modified_aokvqa_train.json\", \"E:/Download/modified_actX_train.json\"]\n",
    "\n",
    "# Output file where the concatenated training data will be saved\n",
    "output_file = \"E:/Download/myProject/Scripts/nle_data/nle_data_train.json\"\n",
    "\n",
    "# Iterate through the input files and concatenate their contents\n",
    "with open(output_file, 'w') as output:\n",
    "    for input_file in input_files:\n",
    "        with open(input_file, 'r') as file:\n",
    "            file_contents = file.read()\n",
    "            output.write(file_contents)\n",
    "\n",
    "print(f'Concatenated data written to {output_file}')"
   ]
  },
  {
   "cell_type": "code",
   "execution_count": 5,
   "id": "ebb01178-45ee-47f1-bc1a-fff250a296ce",
   "metadata": {},
   "outputs": [
    {
     "name": "stdout",
     "output_type": "stream",
     "text": [
      " Concatenated data written to E:/Download/myProject/Scripts/nle_data/nle_data_val.json\n"
     ]
    }
   ],
   "source": [
    "# List of json files for the validation nle data concatenated \n",
    "input_files_2 = [\"E:/Download/vqaX_val.json\", \"E:/Download/modified_aokvqa_val_data.json\"]\n",
    "\n",
    "output_file_2 = \"E:/Download/myProject/Scripts/nle_data/nle_data_val.json\"\n",
    "\n",
    "with open(output_file_2, \"w\") as output_2:\n",
    "    for input_file in input_files_2:\n",
    "        with open(input_file, \"r\") as file:\n",
    "            file_contents = file.read()\n",
    "            output_2.write(file_contents)\n",
    "\n",
    "print(f\" Concatenated data written to {output_file_2}\")"
   ]
  },
  {
   "cell_type": "code",
   "execution_count": 6,
   "id": "aeeab839-f26b-4f53-8cbd-052a0bd10b1e",
   "metadata": {},
   "outputs": [
    {
     "name": "stdout",
     "output_type": "stream",
     "text": [
      " Concatenated data written to E:/Download/myProject/Scripts/nle_data/nle_data_test.json\n"
     ]
    }
   ],
   "source": [
    "# list of json files for test nle data concatenated \n",
    "input_files_3 = [\"E:/Download/vqaX_val.json\", \"E:/Download/modified_aokvqa_test.json\", \"E:/Download/modified_actx_test_data.json\"]\n",
    "\n",
    "output_file_3 = \"E:/Download/myProject/Scripts/nle_data/nle_data_test.json\"\n",
    "\n",
    "with open(output_file_3, \"w\") as output_3:\n",
    "    for input_file in input_files_3:\n",
    "        with open(input_file, \"r\") as file:\n",
    "            file_contents = file.read()\n",
    "            output_3.write(file_contents)\n",
    "\n",
    "print(f\" Concatenated data written to {output_file_3}\")"
   ]
  },
  {
   "cell_type": "code",
   "execution_count": null,
   "id": "150da3c9-0232-45e9-b62e-3a154b36abdf",
   "metadata": {},
   "outputs": [],
   "source": []
  }
 ],
 "metadata": {
  "kernelspec": {
   "display_name": "Python 3 (ipykernel)",
   "language": "python",
   "name": "python3"
  },
  "language_info": {
   "codemirror_mode": {
    "name": "ipython",
    "version": 3
   },
   "file_extension": ".py",
   "mimetype": "text/x-python",
   "name": "python",
   "nbconvert_exporter": "python",
   "pygments_lexer": "ipython3",
   "version": "3.9.13"
  }
 },
 "nbformat": 4,
 "nbformat_minor": 5
}
